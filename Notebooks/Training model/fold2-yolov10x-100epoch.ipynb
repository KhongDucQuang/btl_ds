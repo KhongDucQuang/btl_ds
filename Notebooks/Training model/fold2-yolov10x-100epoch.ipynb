{
 "cells": [
  {
   "cell_type": "code",
   "execution_count": null,
   "metadata": {
    "execution": {
     "iopub.execute_input": "2024-06-11T04:31:04.767513Z",
     "iopub.status.busy": "2024-06-11T04:31:04.766706Z",
     "iopub.status.idle": "2024-06-11T04:31:05.728451Z",
     "shell.execute_reply": "2024-06-11T04:31:05.727343Z",
     "shell.execute_reply.started": "2024-06-11T04:31:04.767479Z"
    },
    "trusted": true
   },
   "outputs": [],
   "source": [
    "!python --version"
   ]
  },
  {
   "cell_type": "code",
   "execution_count": null,
   "metadata": {
    "execution": {
     "iopub.execute_input": "2024-06-11T04:31:05.730877Z",
     "iopub.status.busy": "2024-06-11T04:31:05.730550Z",
     "iopub.status.idle": "2024-06-11T04:31:08.280077Z",
     "shell.execute_reply": "2024-06-11T04:31:08.278987Z",
     "shell.execute_reply.started": "2024-06-11T04:31:05.730844Z"
    },
    "trusted": true
   },
   "outputs": [],
   "source": [
    "#git clone yolov10\n",
    "!git clone https://github.com/THU-MIG/yolov10.git"
   ]
  },
  {
   "cell_type": "code",
   "execution_count": 3,
   "metadata": {
    "execution": {
     "iopub.execute_input": "2024-06-11T04:31:08.282169Z",
     "iopub.status.busy": "2024-06-11T04:31:08.281757Z",
     "iopub.status.idle": "2024-06-11T04:31:08.289284Z",
     "shell.execute_reply": "2024-06-11T04:31:08.288239Z",
     "shell.execute_reply.started": "2024-06-11T04:31:08.282128Z"
    },
    "trusted": true
   },
   "outputs": [
    {
     "name": "stdout",
     "output_type": "stream",
     "text": [
      "/kaggle/working/yolov10\n"
     ]
    }
   ],
   "source": [
    "cd yolov10"
   ]
  },
  {
   "cell_type": "code",
   "execution_count": null,
   "metadata": {
    "execution": {
     "iopub.execute_input": "2024-06-11T04:31:08.292774Z",
     "iopub.status.busy": "2024-06-11T04:31:08.292135Z",
     "iopub.status.idle": "2024-06-11T04:31:37.409426Z",
     "shell.execute_reply": "2024-06-11T04:31:37.408498Z",
     "shell.execute_reply.started": "2024-06-11T04:31:08.292739Z"
    },
    "trusted": true
   },
   "outputs": [],
   "source": [
    "!pip install . "
   ]
  },
  {
   "cell_type": "code",
   "execution_count": null,
   "metadata": {
    "execution": {
     "iopub.execute_input": "2024-06-11T04:31:37.410995Z",
     "iopub.status.busy": "2024-06-11T04:31:37.410711Z",
     "iopub.status.idle": "2024-06-11T04:31:41.715577Z",
     "shell.execute_reply": "2024-06-11T04:31:41.714682Z",
     "shell.execute_reply.started": "2024-06-11T04:31:37.410966Z"
    },
    "trusted": true
   },
   "outputs": [],
   "source": [
    "import os\n",
    "import urllib.request\n",
    "\n",
    "# Create a directory for the weights in the current working directory\n",
    "weights_dir = os.path.join(os.getcwd(), \"weights\")\n",
    "os.makedirs(weights_dir, exist_ok=True)\n",
    "\n",
    "# URLs of the weight files\n",
    "urls = [\n",
    "    \"https://github.com/jameslahm/yolov10/releases/download/v1.0/yolov10n.pt\",\n",
    "    \"https://github.com/jameslahm/yolov10/releases/download/v1.0/yolov10s.pt\",\n",
    "    \"https://github.com/jameslahm/yolov10/releases/download/v1.0/yolov10m.pt\",\n",
    "    \"https://github.com/jameslahm/yolov10/releases/download/v1.0/yolov10b.pt\",\n",
    "    \"https://github.com/jameslahm/yolov10/releases/download/v1.0/yolov10x.pt\",\n",
    "    \"https://github.com/jameslahm/yolov10/releases/download/v1.0/yolov10l.pt\"\n",
    "]\n",
    "\n",
    "# Download each file\n",
    "for url in urls:\n",
    "    file_name = os.path.join(weights_dir, os.path.basename(url))\n",
    "    urllib.request.urlretrieve(url, file_name)\n",
    "    print(f\"Downloaded {file_name}\")"
   ]
  },
  {
   "cell_type": "code",
   "execution_count": null,
   "metadata": {
    "execution": {
     "iopub.execute_input": "2024-06-11T04:31:41.717599Z",
     "iopub.status.busy": "2024-06-11T04:31:41.717301Z",
     "iopub.status.idle": "2024-06-11T04:32:11.706014Z",
     "shell.execute_reply": "2024-06-11T04:32:11.705094Z",
     "shell.execute_reply.started": "2024-06-11T04:31:41.717572Z"
    },
    "trusted": true
   },
   "outputs": [],
   "source": [
    "!pip install wandb --upgrade"
   ]
  },
  {
   "cell_type": "code",
   "execution_count": null,
   "metadata": {
    "execution": {
     "iopub.execute_input": "2024-06-11T04:32:11.707708Z",
     "iopub.status.busy": "2024-06-11T04:32:11.707396Z",
     "iopub.status.idle": "2024-06-11T04:32:13.991355Z",
     "shell.execute_reply": "2024-06-11T04:32:13.990472Z",
     "shell.execute_reply.started": "2024-06-11T04:32:11.707676Z"
    },
    "trusted": true
   },
   "outputs": [],
   "source": [
    "import wandb\n",
    "\n",
    "wandb.login(key='80e551f3eab10ac5a58d9cfe867b9713d6d89fbc')"
   ]
  },
  {
   "cell_type": "code",
   "execution_count": null,
   "metadata": {
    "execution": {
     "iopub.execute_input": "2024-06-11T04:32:13.993960Z",
     "iopub.status.busy": "2024-06-11T04:32:13.992544Z",
     "iopub.status.idle": "2024-06-11T13:14:49.243301Z",
     "shell.execute_reply": "2024-06-11T13:14:49.242028Z",
     "shell.execute_reply.started": "2024-06-11T04:32:13.993931Z"
    },
    "trusted": true
   },
   "outputs": [],
   "source": [
    "#train model\n",
    "!yolo task=detect mode=train epochs=100 batch=8 plots=True model=weights/yolov10x.pt data=/kaggle/input/detecting-student-classroom-behavior2/kaggle_config_fold2.yaml"
   ]
  }
 ],
 "metadata": {
  "kaggle": {
   "accelerator": "nvidiaTeslaT4",
   "dataSources": [
    {
     "datasetId": 5097803,
     "sourceId": 8643169,
     "sourceType": "datasetVersion"
    }
   ],
   "dockerImageVersionId": 30733,
   "isGpuEnabled": true,
   "isInternetEnabled": true,
   "language": "python",
   "sourceType": "notebook"
  },
  "kernelspec": {
   "display_name": "Python 3",
   "language": "python",
   "name": "python3"
  },
  "language_info": {
   "codemirror_mode": {
    "name": "ipython",
    "version": 3
   },
   "file_extension": ".py",
   "mimetype": "text/x-python",
   "name": "python",
   "nbconvert_exporter": "python",
   "pygments_lexer": "ipython3",
   "version": "3.10.13"
  }
 },
 "nbformat": 4,
 "nbformat_minor": 4
}
