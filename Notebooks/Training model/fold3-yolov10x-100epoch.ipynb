{
 "cells": [
  {
   "cell_type": "code",
   "execution_count": null,
   "metadata": {
    "execution": {
     "iopub.execute_input": "2024-06-07T11:19:21.005628Z",
     "iopub.status.busy": "2024-06-07T11:19:21.004810Z",
     "iopub.status.idle": "2024-06-07T11:19:22.014082Z",
     "shell.execute_reply": "2024-06-07T11:19:22.012882Z",
     "shell.execute_reply.started": "2024-06-07T11:19:21.005598Z"
    },
    "trusted": true
   },
   "outputs": [],
   "source": [
    "!python --version"
   ]
  },
  {
   "cell_type": "code",
   "execution_count": null,
   "metadata": {
    "execution": {
     "iopub.execute_input": "2024-06-07T11:19:22.886028Z",
     "iopub.status.busy": "2024-06-07T11:19:22.885654Z",
     "iopub.status.idle": "2024-06-07T11:19:25.787611Z",
     "shell.execute_reply": "2024-06-07T11:19:25.786448Z",
     "shell.execute_reply.started": "2024-06-07T11:19:22.885997Z"
    },
    "trusted": true
   },
   "outputs": [],
   "source": [
    "#git clone yolov10\n",
    "!git clone https://github.com/THU-MIG/yolov10.git"
   ]
  },
  {
   "cell_type": "code",
   "execution_count": null,
   "metadata": {
    "execution": {
     "iopub.execute_input": "2024-06-07T11:19:32.909057Z",
     "iopub.status.busy": "2024-06-07T11:19:32.908661Z",
     "iopub.status.idle": "2024-06-07T11:19:32.914702Z",
     "shell.execute_reply": "2024-06-07T11:19:32.913569Z",
     "shell.execute_reply.started": "2024-06-07T11:19:32.909027Z"
    },
    "trusted": true
   },
   "outputs": [],
   "source": [
    "cd yolov10"
   ]
  },
  {
   "cell_type": "code",
   "execution_count": null,
   "metadata": {
    "execution": {
     "iopub.execute_input": "2024-06-07T11:19:41.380270Z",
     "iopub.status.busy": "2024-06-07T11:19:41.379912Z",
     "iopub.status.idle": "2024-06-07T11:20:12.905753Z",
     "shell.execute_reply": "2024-06-07T11:20:12.904554Z",
     "shell.execute_reply.started": "2024-06-07T11:19:41.380242Z"
    },
    "trusted": true
   },
   "outputs": [],
   "source": [
    "!pip install . "
   ]
  },
  {
   "cell_type": "code",
   "execution_count": null,
   "metadata": {
    "execution": {
     "iopub.execute_input": "2024-06-07T11:20:12.908616Z",
     "iopub.status.busy": "2024-06-07T11:20:12.908173Z",
     "iopub.status.idle": "2024-06-07T11:20:17.343027Z",
     "shell.execute_reply": "2024-06-07T11:20:17.341859Z",
     "shell.execute_reply.started": "2024-06-07T11:20:12.908578Z"
    },
    "trusted": true
   },
   "outputs": [],
   "source": [
    "import os\n",
    "import urllib.request\n",
    "\n",
    "# Create a directory for the weights in the current working directory\n",
    "weights_dir = os.path.join(os.getcwd(), \"weights\")\n",
    "os.makedirs(weights_dir, exist_ok=True)\n",
    "\n",
    "# URLs of the weight files\n",
    "urls = [\n",
    "    \"https://github.com/jameslahm/yolov10/releases/download/v1.0/yolov10n.pt\",\n",
    "    \"https://github.com/jameslahm/yolov10/releases/download/v1.0/yolov10s.pt\",\n",
    "    \"https://github.com/jameslahm/yolov10/releases/download/v1.0/yolov10m.pt\",\n",
    "    \"https://github.com/jameslahm/yolov10/releases/download/v1.0/yolov10b.pt\",\n",
    "    \"https://github.com/jameslahm/yolov10/releases/download/v1.0/yolov10x.pt\",\n",
    "    \"https://github.com/jameslahm/yolov10/releases/download/v1.0/yolov10l.pt\"\n",
    "]\n",
    "\n",
    "# Download each file\n",
    "for url in urls:\n",
    "    file_name = os.path.join(weights_dir, os.path.basename(url))\n",
    "    urllib.request.urlretrieve(url, file_name)\n",
    "    print(f\"Downloaded {file_name}\")"
   ]
  },
  {
   "cell_type": "code",
   "execution_count": null,
   "metadata": {
    "execution": {
     "iopub.execute_input": "2024-06-07T11:20:17.346325Z",
     "iopub.status.busy": "2024-06-07T11:20:17.345669Z",
     "iopub.status.idle": "2024-06-07T11:21:06.089849Z",
     "shell.execute_reply": "2024-06-07T11:21:06.088269Z",
     "shell.execute_reply.started": "2024-06-07T11:20:17.346295Z"
    },
    "trusted": true
   },
   "outputs": [],
   "source": [
    "!pip install wandb --upgrade"
   ]
  },
  {
   "cell_type": "code",
   "execution_count": null,
   "metadata": {
    "execution": {
     "iopub.execute_input": "2024-06-07T11:21:06.093825Z",
     "iopub.status.busy": "2024-06-07T11:21:06.092765Z",
     "iopub.status.idle": "2024-06-07T11:21:35.836278Z",
     "shell.execute_reply": "2024-06-07T11:21:35.835323Z",
     "shell.execute_reply.started": "2024-06-07T11:21:06.093769Z"
    },
    "trusted": true
   },
   "outputs": [],
   "source": [
    "import wandb\n",
    "wandb.login()"
   ]
  },
  {
   "cell_type": "code",
   "execution_count": null,
   "metadata": {
    "execution": {
     "iopub.execute_input": "2024-06-07T11:21:35.837901Z",
     "iopub.status.busy": "2024-06-07T11:21:35.837496Z",
     "iopub.status.idle": "2024-06-07T19:35:16.818156Z",
     "shell.execute_reply": "2024-06-07T19:35:16.816846Z",
     "shell.execute_reply.started": "2024-06-07T11:21:35.837875Z"
    },
    "trusted": true
   },
   "outputs": [],
   "source": [
    "#train model\n",
    "!yolo task=detect mode=train epochs=100 batch=8 plots=True model=weights/yolov10x.pt data=/kaggle/input/detecting-student-classroom-behavior2/kaggle_config_fold3.yaml"
   ]
  }
 ],
 "metadata": {
  "kaggle": {
   "accelerator": "nvidiaTeslaT4",
   "dataSources": [
    {
     "datasetId": 5029903,
     "sourceId": 8444099,
     "sourceType": "datasetVersion"
    },
    {
     "datasetId": 5105822,
     "sourceId": 8626069,
     "sourceType": "datasetVersion"
    },
    {
     "datasetId": 5097803,
     "sourceId": 8626178,
     "sourceType": "datasetVersion"
    }
   ],
   "dockerImageVersionId": 30733,
   "isGpuEnabled": true,
   "isInternetEnabled": true,
   "language": "python",
   "sourceType": "notebook"
  },
  "kernelspec": {
   "display_name": "Python 3",
   "language": "python",
   "name": "python3"
  },
  "language_info": {
   "codemirror_mode": {
    "name": "ipython",
    "version": 3
   },
   "file_extension": ".py",
   "mimetype": "text/x-python",
   "name": "python",
   "nbconvert_exporter": "python",
   "pygments_lexer": "ipython3",
   "version": "3.10.13"
  }
 },
 "nbformat": 4,
 "nbformat_minor": 4
}
