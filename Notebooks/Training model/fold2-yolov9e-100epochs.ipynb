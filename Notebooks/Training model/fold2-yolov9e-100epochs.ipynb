{
 "cells": [
  {
   "cell_type": "code",
   "execution_count": null,
   "metadata": {
    "execution": {
     "iopub.execute_input": "2024-06-11T04:31:06.803699Z",
     "iopub.status.busy": "2024-06-11T04:31:06.803098Z",
     "iopub.status.idle": "2024-06-11T04:31:21.495275Z",
     "shell.execute_reply": "2024-06-11T04:31:21.494175Z",
     "shell.execute_reply.started": "2024-06-11T04:31:06.803671Z"
    },
    "trusted": true
   },
   "outputs": [],
   "source": [
    "!pip install ultralytics"
   ]
  },
  {
   "cell_type": "code",
   "execution_count": null,
   "metadata": {
    "execution": {
     "iopub.execute_input": "2024-06-11T04:31:21.497794Z",
     "iopub.status.busy": "2024-06-11T04:31:21.497444Z",
     "iopub.status.idle": "2024-06-11T04:31:34.653620Z",
     "shell.execute_reply": "2024-06-11T04:31:34.652570Z",
     "shell.execute_reply.started": "2024-06-11T04:31:21.497759Z"
    },
    "trusted": true
   },
   "outputs": [],
   "source": [
    "pip install -U ipywidgets"
   ]
  },
  {
   "cell_type": "code",
   "execution_count": null,
   "metadata": {
    "execution": {
     "iopub.execute_input": "2024-06-11T04:31:34.655327Z",
     "iopub.status.busy": "2024-06-11T04:31:34.655000Z",
     "iopub.status.idle": "2024-06-11T04:31:37.463118Z",
     "shell.execute_reply": "2024-06-11T04:31:37.462327Z",
     "shell.execute_reply.started": "2024-06-11T04:31:34.655291Z"
    },
    "trusted": true
   },
   "outputs": [],
   "source": [
    "import wandb\n",
    "\n",
    "wandb.login(key='80e551f3eab10ac5a58d9cfe867b9713d6d89fbc')"
   ]
  },
  {
   "cell_type": "code",
   "execution_count": null,
   "metadata": {
    "execution": {
     "iopub.execute_input": "2024-06-11T04:31:37.465248Z",
     "iopub.status.busy": "2024-06-11T04:31:37.464851Z",
     "iopub.status.idle": "2024-06-11T04:31:43.040377Z",
     "shell.execute_reply": "2024-06-11T04:31:43.039601Z",
     "shell.execute_reply.started": "2024-06-11T04:31:37.465223Z"
    },
    "trusted": true
   },
   "outputs": [],
   "source": [
    "from ultralytics import YOLO\n",
    "\n",
    "# Load a model\n",
    "model = YOLO('yolov9e.pt')  # load a pretrained model (recommended for training)"
   ]
  },
  {
   "cell_type": "code",
   "execution_count": null,
   "metadata": {
    "execution": {
     "iopub.execute_input": "2024-06-11T04:31:43.041820Z",
     "iopub.status.busy": "2024-06-11T04:31:43.041425Z"
    },
    "trusted": true
   },
   "outputs": [],
   "source": [
    "#train model\n",
    "results = model.train(data='/kaggle/input/detecting-student-classroom-behavior2/kaggle_config_fold2.yaml', epochs=100, imgsz=640, batch=8)"
   ]
  }
 ],
 "metadata": {
  "kaggle": {
   "accelerator": "nvidiaTeslaT4",
   "dataSources": [
    {
     "datasetId": 5097803,
     "sourceId": 8643169,
     "sourceType": "datasetVersion"
    }
   ],
   "dockerImageVersionId": 30733,
   "isGpuEnabled": true,
   "isInternetEnabled": true,
   "language": "python",
   "sourceType": "notebook"
  },
  "kernelspec": {
   "display_name": "Python 3",
   "language": "python",
   "name": "python3"
  },
  "language_info": {
   "codemirror_mode": {
    "name": "ipython",
    "version": 3
   },
   "file_extension": ".py",
   "mimetype": "text/x-python",
   "name": "python",
   "nbconvert_exporter": "python",
   "pygments_lexer": "ipython3",
   "version": "3.10.13"
  }
 },
 "nbformat": 4,
 "nbformat_minor": 4
}
