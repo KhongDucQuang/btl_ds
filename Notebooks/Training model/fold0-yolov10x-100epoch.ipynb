{
 "cells": [
  {
   "cell_type": "code",
   "execution_count": null,
   "metadata": {
    "execution": {
     "iopub.execute_input": "2024-05-29T05:36:04.147754Z",
     "iopub.status.busy": "2024-05-29T05:36:04.146841Z",
     "iopub.status.idle": "2024-05-29T05:36:05.094222Z",
     "shell.execute_reply": "2024-05-29T05:36:05.093277Z",
     "shell.execute_reply.started": "2024-05-29T05:36:04.147720Z"
    },
    "trusted": true
   },
   "outputs": [],
   "source": [
    "!python --version"
   ]
  },
  {
   "cell_type": "code",
   "execution_count": null,
   "metadata": {
    "execution": {
     "iopub.execute_input": "2024-05-29T05:36:05.096365Z",
     "iopub.status.busy": "2024-05-29T05:36:05.096068Z",
     "iopub.status.idle": "2024-05-29T05:36:07.584776Z",
     "shell.execute_reply": "2024-05-29T05:36:07.583663Z",
     "shell.execute_reply.started": "2024-05-29T05:36:05.096339Z"
    },
    "trusted": true
   },
   "outputs": [],
   "source": [
    "#git clone yolov10\n",
    "!git clone https://github.com/THU-MIG/yolov10.git "
   ]
  },
  {
   "cell_type": "code",
   "execution_count": null,
   "metadata": {
    "execution": {
     "iopub.execute_input": "2024-05-29T05:36:07.586564Z",
     "iopub.status.busy": "2024-05-29T05:36:07.586247Z",
     "iopub.status.idle": "2024-05-29T05:36:07.592815Z",
     "shell.execute_reply": "2024-05-29T05:36:07.591861Z",
     "shell.execute_reply.started": "2024-05-29T05:36:07.586536Z"
    },
    "trusted": true
   },
   "outputs": [],
   "source": [
    "cd yolov10"
   ]
  },
  {
   "cell_type": "code",
   "execution_count": null,
   "metadata": {
    "execution": {
     "iopub.execute_input": "2024-05-29T05:36:07.594226Z",
     "iopub.status.busy": "2024-05-29T05:36:07.593946Z",
     "iopub.status.idle": "2024-05-29T05:36:34.978829Z",
     "shell.execute_reply": "2024-05-29T05:36:34.977665Z",
     "shell.execute_reply.started": "2024-05-29T05:36:07.594196Z"
    },
    "trusted": true
   },
   "outputs": [],
   "source": [
    "!pip install . "
   ]
  },
  {
   "cell_type": "code",
   "execution_count": null,
   "metadata": {
    "execution": {
     "iopub.execute_input": "2024-05-29T05:36:34.982701Z",
     "iopub.status.busy": "2024-05-29T05:36:34.982019Z",
     "iopub.status.idle": "2024-05-29T05:36:39.789169Z",
     "shell.execute_reply": "2024-05-29T05:36:39.788283Z",
     "shell.execute_reply.started": "2024-05-29T05:36:34.982670Z"
    },
    "trusted": true
   },
   "outputs": [],
   "source": [
    "import os\n",
    "import urllib.request\n",
    "\n",
    "# Create a directory for the weights in the current working directory\n",
    "weights_dir = os.path.join(os.getcwd(), \"weights\")\n",
    "os.makedirs(weights_dir, exist_ok=True)\n",
    "\n",
    "# URLs of the weight files\n",
    "urls = [\n",
    "    \"https://github.com/jameslahm/yolov10/releases/download/v1.0/yolov10n.pt\",\n",
    "    \"https://github.com/jameslahm/yolov10/releases/download/v1.0/yolov10s.pt\",\n",
    "    \"https://github.com/jameslahm/yolov10/releases/download/v1.0/yolov10m.pt\",\n",
    "    \"https://github.com/jameslahm/yolov10/releases/download/v1.0/yolov10b.pt\",\n",
    "    \"https://github.com/jameslahm/yolov10/releases/download/v1.0/yolov10x.pt\",\n",
    "    \"https://github.com/jameslahm/yolov10/releases/download/v1.0/yolov10l.pt\"\n",
    "]\n",
    "\n",
    "# Download each file\n",
    "for url in urls:\n",
    "    file_name = os.path.join(weights_dir, os.path.basename(url))\n",
    "    urllib.request.urlretrieve(url, file_name)\n",
    "    print(f\"Downloaded {file_name}\")"
   ]
  },
  {
   "cell_type": "code",
   "execution_count": null,
   "metadata": {
    "execution": {
     "iopub.execute_input": "2024-05-29T05:36:39.791078Z",
     "iopub.status.busy": "2024-05-29T05:36:39.790758Z",
     "iopub.status.idle": "2024-05-29T05:36:55.779969Z",
     "shell.execute_reply": "2024-05-29T05:36:55.778719Z",
     "shell.execute_reply.started": "2024-05-29T05:36:39.791053Z"
    },
    "trusted": true
   },
   "outputs": [],
   "source": [
    "!pip install wandb --upgrade"
   ]
  },
  {
   "cell_type": "code",
   "execution_count": null,
   "metadata": {
    "execution": {
     "iopub.execute_input": "2024-05-29T05:36:55.782254Z",
     "iopub.status.busy": "2024-05-29T05:36:55.781546Z",
     "iopub.status.idle": "2024-05-29T05:37:43.200868Z",
     "shell.execute_reply": "2024-05-29T05:37:43.200040Z",
     "shell.execute_reply.started": "2024-05-29T05:36:55.782217Z"
    },
    "trusted": true
   },
   "outputs": [],
   "source": [
    "import wandb\n",
    "wandb.login()"
   ]
  },
  {
   "cell_type": "code",
   "execution_count": null,
   "metadata": {
    "execution": {
     "iopub.execute_input": "2024-05-29T05:37:43.202462Z",
     "iopub.status.busy": "2024-05-29T05:37:43.202038Z",
     "iopub.status.idle": "2024-05-29T15:21:52.683820Z",
     "shell.execute_reply": "2024-05-29T15:21:52.682561Z",
     "shell.execute_reply.started": "2024-05-29T05:37:43.202435Z"
    },
    "trusted": true
   },
   "outputs": [],
   "source": [
    "#train model\n",
    "!yolo task=detect mode=train epochs=100 batch=8 plots=True model=weights/yolov10x.pt data=/kaggle/input/detecting-student-classroom-behavior2/kaggle_config_fold0.yaml"
   ]
  }
 ],
 "metadata": {
  "kaggle": {
   "accelerator": "gpu",
   "dataSources": [
    {
     "datasetId": 5029903,
     "sourceId": 8444099,
     "sourceType": "datasetVersion"
    },
    {
     "datasetId": 5097803,
     "sourceId": 8535162,
     "sourceType": "datasetVersion"
    },
    {
     "datasetId": 5105822,
     "sourceId": 8545988,
     "sourceType": "datasetVersion"
    }
   ],
   "dockerImageVersionId": 30698,
   "isGpuEnabled": true,
   "isInternetEnabled": true,
   "language": "python",
   "sourceType": "notebook"
  },
  "kernelspec": {
   "display_name": "Python 3",
   "language": "python",
   "name": "python3"
  },
  "language_info": {
   "codemirror_mode": {
    "name": "ipython",
    "version": 3
   },
   "file_extension": ".py",
   "mimetype": "text/x-python",
   "name": "python",
   "nbconvert_exporter": "python",
   "pygments_lexer": "ipython3",
   "version": "3.10.13"
  }
 },
 "nbformat": 4,
 "nbformat_minor": 4
}
