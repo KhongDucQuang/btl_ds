{
 "cells": [
  {
   "cell_type": "code",
   "execution_count": null,
   "metadata": {
    "execution": {
     "iopub.execute_input": "2024-06-09T01:07:13.874374Z",
     "iopub.status.busy": "2024-06-09T01:07:13.873556Z",
     "iopub.status.idle": "2024-06-09T01:07:28.283123Z",
     "shell.execute_reply": "2024-06-09T01:07:28.282115Z",
     "shell.execute_reply.started": "2024-06-09T01:07:13.874334Z"
    },
    "trusted": true
   },
   "outputs": [],
   "source": [
    "pip install ultralytics"
   ]
  },
  {
   "cell_type": "code",
   "execution_count": null,
   "metadata": {
    "execution": {
     "iopub.execute_input": "2024-06-09T01:07:28.285340Z",
     "iopub.status.busy": "2024-06-09T01:07:28.285077Z",
     "iopub.status.idle": "2024-06-09T01:07:42.038552Z",
     "shell.execute_reply": "2024-06-09T01:07:42.037512Z",
     "shell.execute_reply.started": "2024-06-09T01:07:28.285314Z"
    },
    "trusted": true
   },
   "outputs": [],
   "source": [
    "pip install -U ipywidgets"
   ]
  },
  {
   "cell_type": "code",
   "execution_count": null,
   "metadata": {
    "execution": {
     "iopub.execute_input": "2024-06-09T01:07:42.040430Z",
     "iopub.status.busy": "2024-06-09T01:07:42.040128Z",
     "iopub.status.idle": "2024-06-09T01:07:46.866789Z",
     "shell.execute_reply": "2024-06-09T01:07:46.865976Z",
     "shell.execute_reply.started": "2024-06-09T01:07:42.040401Z"
    },
    "trusted": true
   },
   "outputs": [],
   "source": [
    "from ultralytics import YOLO\n",
    "\n",
    "# Load a model\n",
    "model = YOLO('yolov8x.pt')  # load a pretrained model (recommended for training)"
   ]
  },
  {
   "cell_type": "code",
   "execution_count": null,
   "metadata": {
    "execution": {
     "iopub.execute_input": "2024-06-09T01:07:46.869479Z",
     "iopub.status.busy": "2024-06-09T01:07:46.869013Z",
     "iopub.status.idle": "2024-06-09T09:08:18.982089Z",
     "shell.execute_reply": "2024-06-09T09:08:18.981181Z",
     "shell.execute_reply.started": "2024-06-09T01:07:46.869447Z"
    },
    "trusted": true
   },
   "outputs": [],
   "source": [
    "#train model\n",
    "results = model.train(data='/kaggle/input/detecting-student-classroom-behavior2/kaggle_config_fold3.yaml', epochs=100, imgsz=640, batch=8)"
   ]
  }
 ],
 "metadata": {
  "kaggle": {
   "accelerator": "nvidiaTeslaT4",
   "dataSources": [
    {
     "datasetId": 5097803,
     "sourceId": 8643169,
     "sourceType": "datasetVersion"
    }
   ],
   "dockerImageVersionId": 30733,
   "isGpuEnabled": true,
   "isInternetEnabled": true,
   "language": "python",
   "sourceType": "notebook"
  },
  "kernelspec": {
   "display_name": "Python 3",
   "language": "python",
   "name": "python3"
  },
  "language_info": {
   "codemirror_mode": {
    "name": "ipython",
    "version": 3
   },
   "file_extension": ".py",
   "mimetype": "text/x-python",
   "name": "python",
   "nbconvert_exporter": "python",
   "pygments_lexer": "ipython3",
   "version": "3.10.13"
  }
 },
 "nbformat": 4,
 "nbformat_minor": 4
}
