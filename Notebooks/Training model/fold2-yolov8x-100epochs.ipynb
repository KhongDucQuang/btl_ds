{
 "cells": [
  {
   "cell_type": "code",
   "execution_count": null,
   "metadata": {
    "execution": {
     "iopub.execute_input": "2024-06-11T04:31:01.226690Z",
     "iopub.status.busy": "2024-06-11T04:31:01.226358Z",
     "iopub.status.idle": "2024-06-11T04:31:16.707618Z",
     "shell.execute_reply": "2024-06-11T04:31:16.706700Z",
     "shell.execute_reply.started": "2024-06-11T04:31:01.226663Z"
    },
    "trusted": true
   },
   "outputs": [],
   "source": [
    "!pip install ultralytics"
   ]
  },
  {
   "cell_type": "code",
   "execution_count": null,
   "metadata": {
    "execution": {
     "iopub.execute_input": "2024-06-11T04:31:16.710400Z",
     "iopub.status.busy": "2024-06-11T04:31:16.710034Z",
     "iopub.status.idle": "2024-06-11T04:31:30.507957Z",
     "shell.execute_reply": "2024-06-11T04:31:30.506797Z",
     "shell.execute_reply.started": "2024-06-11T04:31:16.710360Z"
    },
    "trusted": true
   },
   "outputs": [],
   "source": [
    "pip install -U ipywidgets"
   ]
  },
  {
   "cell_type": "code",
   "execution_count": null,
   "metadata": {
    "execution": {
     "iopub.execute_input": "2024-06-11T04:31:30.509542Z",
     "iopub.status.busy": "2024-06-11T04:31:30.509238Z",
     "iopub.status.idle": "2024-06-11T04:31:33.281328Z",
     "shell.execute_reply": "2024-06-11T04:31:33.280495Z",
     "shell.execute_reply.started": "2024-06-11T04:31:30.509514Z"
    },
    "trusted": true
   },
   "outputs": [],
   "source": [
    "import wandb\n",
    "\n",
    "wandb.login(key='80e551f3eab10ac5a58d9cfe867b9713d6d89fbc')"
   ]
  },
  {
   "cell_type": "code",
   "execution_count": null,
   "metadata": {
    "execution": {
     "iopub.execute_input": "2024-06-11T04:31:33.284159Z",
     "iopub.status.busy": "2024-06-11T04:31:33.283211Z",
     "iopub.status.idle": "2024-06-11T04:31:39.170406Z",
     "shell.execute_reply": "2024-06-11T04:31:39.169596Z",
     "shell.execute_reply.started": "2024-06-11T04:31:33.284124Z"
    },
    "trusted": true
   },
   "outputs": [],
   "source": [
    "from ultralytics import YOLO\n",
    "\n",
    "# Load a model\n",
    "model = YOLO('yolov8x.pt')  # load a pretrained model (recommended for training)"
   ]
  },
  {
   "cell_type": "code",
   "execution_count": null,
   "metadata": {
    "execution": {
     "iopub.execute_input": "2024-06-11T04:31:39.173662Z",
     "iopub.status.busy": "2024-06-11T04:31:39.172747Z"
    },
    "trusted": true
   },
   "outputs": [],
   "source": [
    "#train model\n",
    "results = model.train(data='/kaggle/input/detecting-student-classroom-behavior2/kaggle_config_fold2.yaml', epochs=100, imgsz=640, batch=8)"
   ]
  }
 ],
 "metadata": {
  "kaggle": {
   "accelerator": "nvidiaTeslaT4",
   "dataSources": [
    {
     "datasetId": 5097803,
     "sourceId": 8643169,
     "sourceType": "datasetVersion"
    }
   ],
   "dockerImageVersionId": 30733,
   "isGpuEnabled": true,
   "isInternetEnabled": true,
   "language": "python",
   "sourceType": "notebook"
  },
  "kernelspec": {
   "display_name": "Python 3",
   "language": "python",
   "name": "python3"
  },
  "language_info": {
   "codemirror_mode": {
    "name": "ipython",
    "version": 3
   },
   "file_extension": ".py",
   "mimetype": "text/x-python",
   "name": "python",
   "nbconvert_exporter": "python",
   "pygments_lexer": "ipython3",
   "version": "3.10.13"
  }
 },
 "nbformat": 4,
 "nbformat_minor": 4
}
