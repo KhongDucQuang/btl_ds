{
 "cells": [
  {
   "cell_type": "code",
   "execution_count": null,
   "metadata": {
    "execution": {
     "iopub.execute_input": "2024-06-06T10:33:14.013629Z",
     "iopub.status.busy": "2024-06-06T10:33:14.013277Z",
     "iopub.status.idle": "2024-06-06T10:33:28.496321Z",
     "shell.execute_reply": "2024-06-06T10:33:28.495429Z",
     "shell.execute_reply.started": "2024-06-06T10:33:14.013602Z"
    },
    "trusted": true
   },
   "outputs": [],
   "source": [
    "!pip install ultralytics"
   ]
  },
  {
   "cell_type": "code",
   "execution_count": null,
   "metadata": {
    "execution": {
     "iopub.execute_input": "2024-06-06T10:33:28.498374Z",
     "iopub.status.busy": "2024-06-06T10:33:28.498096Z",
     "iopub.status.idle": "2024-06-06T10:33:41.909216Z",
     "shell.execute_reply": "2024-06-06T10:33:41.908029Z",
     "shell.execute_reply.started": "2024-06-06T10:33:28.498337Z"
    },
    "trusted": true
   },
   "outputs": [],
   "source": [
    "pip install -U ipywidgets"
   ]
  },
  {
   "cell_type": "code",
   "execution_count": null,
   "metadata": {
    "execution": {
     "iopub.execute_input": "2024-06-06T10:33:41.910877Z",
     "iopub.status.busy": "2024-06-06T10:33:41.910594Z",
     "iopub.status.idle": "2024-06-06T10:33:46.651898Z",
     "shell.execute_reply": "2024-06-06T10:33:46.650876Z",
     "shell.execute_reply.started": "2024-06-06T10:33:41.910849Z"
    },
    "trusted": true
   },
   "outputs": [],
   "source": [
    "from ultralytics import YOLO\n",
    "\n",
    "# Load a model\n",
    "model = YOLO('yolov8x.pt')  # load a pretrained model (recommended for training)"
   ]
  },
  {
   "cell_type": "code",
   "execution_count": null,
   "metadata": {
    "execution": {
     "iopub.execute_input": "2024-06-06T10:33:46.655868Z",
     "iopub.status.busy": "2024-06-06T10:33:46.654958Z",
     "iopub.status.idle": "2024-06-06T19:15:00.807199Z",
     "shell.execute_reply": "2024-06-06T19:15:00.806209Z",
     "shell.execute_reply.started": "2024-06-06T10:33:46.655838Z"
    },
    "trusted": true
   },
   "outputs": [],
   "source": [
    "#train model\n",
    "results = model.train(data='/kaggle/input/detecting-student-classroom-behavior2/kaggle_config_fold0.yaml', epochs=100, imgsz=640, batch=8)"
   ]
  }
 ],
 "metadata": {
  "kaggle": {
   "accelerator": "nvidiaTeslaT4",
   "dataSources": [
    {
     "datasetId": 5029903,
     "sourceId": 8444099,
     "sourceType": "datasetVersion"
    },
    {
     "datasetId": 5097803,
     "sourceId": 8643169,
     "sourceType": "datasetVersion"
    }
   ],
   "dockerImageVersionId": 30733,
   "isGpuEnabled": true,
   "isInternetEnabled": true,
   "language": "python",
   "sourceType": "notebook"
  },
  "kernelspec": {
   "display_name": "Python 3",
   "language": "python",
   "name": "python3"
  },
  "language_info": {
   "codemirror_mode": {
    "name": "ipython",
    "version": 3
   },
   "file_extension": ".py",
   "mimetype": "text/x-python",
   "name": "python",
   "nbconvert_exporter": "python",
   "pygments_lexer": "ipython3",
   "version": "3.10.13"
  }
 },
 "nbformat": 4,
 "nbformat_minor": 4
}
