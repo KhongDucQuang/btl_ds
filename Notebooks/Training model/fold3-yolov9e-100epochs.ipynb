{
 "cells": [
  {
   "cell_type": "code",
   "execution_count": null,
   "metadata": {
    "execution": {
     "iopub.execute_input": "2024-06-09T01:05:51.571041Z",
     "iopub.status.busy": "2024-06-09T01:05:51.570731Z",
     "iopub.status.idle": "2024-06-09T01:06:07.052234Z",
     "shell.execute_reply": "2024-06-09T01:06:07.051304Z",
     "shell.execute_reply.started": "2024-06-09T01:05:51.571014Z"
    },
    "trusted": true
   },
   "outputs": [],
   "source": [
    "!pip install ultralytics"
   ]
  },
  {
   "cell_type": "code",
   "execution_count": null,
   "metadata": {
    "execution": {
     "iopub.execute_input": "2024-06-09T01:06:07.054996Z",
     "iopub.status.busy": "2024-06-09T01:06:07.054612Z",
     "iopub.status.idle": "2024-06-09T01:06:21.017596Z",
     "shell.execute_reply": "2024-06-09T01:06:21.016560Z",
     "shell.execute_reply.started": "2024-06-09T01:06:07.054939Z"
    },
    "trusted": true
   },
   "outputs": [],
   "source": [
    "pip install -U ipywidgets"
   ]
  },
  {
   "cell_type": "code",
   "execution_count": null,
   "metadata": {
    "execution": {
     "iopub.execute_input": "2024-06-09T01:06:21.019270Z",
     "iopub.status.busy": "2024-06-09T01:06:21.018983Z",
     "iopub.status.idle": "2024-06-09T01:06:26.680777Z",
     "shell.execute_reply": "2024-06-09T01:06:26.679914Z",
     "shell.execute_reply.started": "2024-06-09T01:06:21.019244Z"
    },
    "trusted": true
   },
   "outputs": [],
   "source": [
    "from ultralytics import YOLO\n",
    "\n",
    "# Load a model\n",
    "model = YOLO('yolov9e.pt')  # load a pretrained model (recommended for training)"
   ]
  },
  {
   "cell_type": "code",
   "execution_count": null,
   "metadata": {
    "execution": {
     "iopub.execute_input": "2024-06-09T01:06:26.683469Z",
     "iopub.status.busy": "2024-06-09T01:06:26.682954Z",
     "iopub.status.idle": "2024-06-09T10:58:46.244924Z",
     "shell.execute_reply": "2024-06-09T10:58:46.244010Z",
     "shell.execute_reply.started": "2024-06-09T01:06:26.683436Z"
    },
    "trusted": true
   },
   "outputs": [],
   "source": [
    "#train model\n",
    "results = model.train(data='/kaggle/input/detecting-student-classroom-behavior2/kaggle_config_fold3.yaml', epochs=100, imgsz=640, batch=8)"
   ]
  }
 ],
 "metadata": {
  "kaggle": {
   "accelerator": "nvidiaTeslaT4",
   "dataSources": [
    {
     "datasetId": 5097803,
     "sourceId": 8643169,
     "sourceType": "datasetVersion"
    }
   ],
   "dockerImageVersionId": 30733,
   "isGpuEnabled": true,
   "isInternetEnabled": true,
   "language": "python",
   "sourceType": "notebook"
  },
  "kernelspec": {
   "display_name": "Python 3",
   "language": "python",
   "name": "python3"
  },
  "language_info": {
   "codemirror_mode": {
    "name": "ipython",
    "version": 3
   },
   "file_extension": ".py",
   "mimetype": "text/x-python",
   "name": "python",
   "nbconvert_exporter": "python",
   "pygments_lexer": "ipython3",
   "version": "3.10.13"
  }
 },
 "nbformat": 4,
 "nbformat_minor": 4
}
