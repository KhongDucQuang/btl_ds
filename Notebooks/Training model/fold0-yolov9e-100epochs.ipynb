{
 "cells": [
  {
   "cell_type": "code",
   "execution_count": null,
   "metadata": {
    "execution": {
     "iopub.execute_input": "2024-06-10T10:59:25.365476Z",
     "iopub.status.busy": "2024-06-10T10:59:25.364680Z",
     "iopub.status.idle": "2024-06-10T10:59:40.520352Z",
     "shell.execute_reply": "2024-06-10T10:59:40.519214Z",
     "shell.execute_reply.started": "2024-06-10T10:59:25.365446Z"
    },
    "trusted": true
   },
   "outputs": [],
   "source": [
    "!pip install ultralytics"
   ]
  },
  {
   "cell_type": "code",
   "execution_count": null,
   "metadata": {
    "execution": {
     "iopub.execute_input": "2024-06-10T10:59:40.522682Z",
     "iopub.status.busy": "2024-06-10T10:59:40.522414Z",
     "iopub.status.idle": "2024-06-10T10:59:54.496471Z",
     "shell.execute_reply": "2024-06-10T10:59:54.495416Z",
     "shell.execute_reply.started": "2024-06-10T10:59:40.522657Z"
    },
    "trusted": true
   },
   "outputs": [],
   "source": [
    "pip install -U ipywidgets"
   ]
  },
  {
   "cell_type": "code",
   "execution_count": null,
   "metadata": {
    "execution": {
     "iopub.execute_input": "2024-06-10T10:59:54.499302Z",
     "iopub.status.busy": "2024-06-10T10:59:54.498517Z",
     "iopub.status.idle": "2024-06-10T11:00:00.170493Z",
     "shell.execute_reply": "2024-06-10T11:00:00.169456Z",
     "shell.execute_reply.started": "2024-06-10T10:59:54.499262Z"
    },
    "trusted": true
   },
   "outputs": [],
   "source": [
    "from ultralytics import YOLO\n",
    "\n",
    "# Load a model\n",
    "model = YOLO('yolov9e.pt')  # load a pretrained model (recommended for training)"
   ]
  },
  {
   "cell_type": "code",
   "execution_count": null,
   "metadata": {
    "execution": {
     "iopub.execute_input": "2024-06-10T11:00:00.173789Z",
     "iopub.status.busy": "2024-06-10T11:00:00.172978Z"
    },
    "trusted": true
   },
   "outputs": [],
   "source": [
    "#train model\n",
    "results = model.train(data='/kaggle/input/detecting-student-classroom-behavior2/kaggle_config_fold0.yaml', epochs=100, imgsz=640, batch=8)"
   ]
  }
 ],
 "metadata": {
  "kaggle": {
   "accelerator": "none",
   "dataSources": [],
   "isGpuEnabled": false,
   "isInternetEnabled": false,
   "language": "python",
   "sourceType": "notebook"
  },
  "kernelspec": {
   "display_name": "Python 3",
   "language": "python",
   "name": "python3"
  },
  "language_info": {
   "codemirror_mode": {
    "name": "ipython",
    "version": 3
   },
   "file_extension": ".py",
   "mimetype": "text/x-python",
   "name": "python",
   "nbconvert_exporter": "python",
   "pygments_lexer": "ipython3",
   "version": "3.10.13"
  }
 },
 "nbformat": 4,
 "nbformat_minor": 4
}
