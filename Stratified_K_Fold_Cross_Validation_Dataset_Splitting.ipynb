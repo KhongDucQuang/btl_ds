{
  "nbformat": 4,
  "nbformat_minor": 0,
  "metadata": {
    "colab": {
      "provenance": [],
      "authorship_tag": "ABX9TyOiW4gHijKiFK7JRaWjtv5s",
      "include_colab_link": true
    },
    "kernelspec": {
      "name": "python3",
      "display_name": "Python 3"
    },
    "language_info": {
      "name": "python"
    }
  },
  "cells": [
    {
      "cell_type": "markdown",
      "metadata": {
        "id": "view-in-github",
        "colab_type": "text"
      },
      "source": [
        "<a href=\"https://colab.research.google.com/github/nontaphatfirm/Classroom-Behavior-Detector/blob/main/Stratified_K_Fold_Cross_Validation_Dataset_Splitting.ipynb\" target=\"_parent\"><img src=\"https://colab.research.google.com/assets/colab-badge.svg\" alt=\"Open In Colab\"/></a>"
      ]
    },
    {
      "cell_type": "markdown",
      "source": [
        "# Stratified K-Fold Cross-Validation Dataset Splitting"
      ],
      "metadata": {
        "id": "hIdcDbZMu9b8"
      }
    },
    {
      "cell_type": "markdown",
      "source": [
        "**Split data from the original train set into new train and val (80:20). Then use the original val set as the test set instead.**"
      ],
      "metadata": {
        "id": "MetasSk13b54"
      }
    },
    {
      "cell_type": "markdown",
      "source": [
        "**The process involves splitting the data into 5 folds**"
      ],
      "metadata": {
        "id": "NlnesNnE6DYw"
      }
    },
    {
      "cell_type": "code",
      "source": [
        "!pip install scikit-learn opencv-python Pillow"
      ],
      "metadata": {
        "colab": {
          "base_uri": "https://localhost:8080/"
        },
        "id": "Pak_MknsXx17",
        "outputId": "8359c984-ea13-4a2c-8093-4356d475bb79"
      },
      "execution_count": null,
      "outputs": [
        {
          "output_type": "stream",
          "name": "stdout",
          "text": [
            "Requirement already satisfied: scikit-learn in /usr/local/lib/python3.10/dist-packages (1.2.2)\n",
            "Requirement already satisfied: opencv-python in /usr/local/lib/python3.10/dist-packages (4.8.0.76)\n",
            "Requirement already satisfied: Pillow in /usr/local/lib/python3.10/dist-packages (9.4.0)\n",
            "Requirement already satisfied: numpy>=1.17.3 in /usr/local/lib/python3.10/dist-packages (from scikit-learn) (1.25.2)\n",
            "Requirement already satisfied: scipy>=1.3.2 in /usr/local/lib/python3.10/dist-packages (from scikit-learn) (1.11.4)\n",
            "Requirement already satisfied: joblib>=1.1.1 in /usr/local/lib/python3.10/dist-packages (from scikit-learn) (1.4.2)\n",
            "Requirement already satisfied: threadpoolctl>=2.0.0 in /usr/local/lib/python3.10/dist-packages (from scikit-learn) (3.5.0)\n"
          ]
        }
      ]
    },
    {
      "cell_type": "code",
      "source": [
        "import os\n",
        "import numpy as np\n",
        "import cv2\n",
        "from sklearn.model_selection import StratifiedShuffleSplit\n",
        "from PIL import Image\n",
        "import shutil"
      ],
      "metadata": {
        "id": "We7_x1tzX0a8"
      },
      "execution_count": null,
      "outputs": []
    },
    {
      "cell_type": "code",
      "source": [
        "from google.colab import drive\n",
        "\n",
        "drive.mount('/content/gdrive')"
      ],
      "metadata": {
        "colab": {
          "base_uri": "https://localhost:8080/"
        },
        "id": "MXV2G8V7YKQE",
        "outputId": "fa6a0922-a308-4d74-b4c6-dcae7fecaad4"
      },
      "execution_count": null,
      "outputs": [
        {
          "output_type": "stream",
          "name": "stdout",
          "text": [
            "Mounted at /content/gdrive\n"
          ]
        }
      ]
    },
    {
      "cell_type": "code",
      "source": [
        "train_images_path = '/content/gdrive/MyDrive/SCB-dataset 3: SCB-Dataset3: A Benchmark for Detecting Student Classroom Behavior/data/images/train/' #your train_images path\n",
        "train_labels_path = '/content/gdrive/MyDrive/SCB-dataset 3: SCB-Dataset3: A Benchmark for Detecting Student Classroom Behavior/data/labels/train/' #your train_label path\n",
        "\n",
        "train_images = [os.path.join(train_images_path, img) for img in os.listdir(train_images_path) if img.endswith('.jpg')]\n",
        "train_labels = [os.path.join(train_labels_path, lbl) for lbl in os.listdir(train_labels_path) if lbl.endswith('.txt')]\n",
        "\n",
        "train_images.sort()\n",
        "train_labels.sort()\n"
      ],
      "metadata": {
        "id": "EASVmVjDX6Fz"
      },
      "execution_count": null,
      "outputs": []
    },
    {
      "cell_type": "code",
      "source": [
        "from sklearn.model_selection import StratifiedShuffleSplit\n",
        "\n",
        "# Dummy array for stratification (required for StratifiedShuffleSplit)\n",
        "dummy_labels = np.zeros(len(train_images))\n",
        "\n",
        "splitter = StratifiedShuffleSplit(n_splits=5, test_size=0.2, random_state=42)\n",
        "\n",
        "for fold, (train_index, val_index) in enumerate(splitter.split(train_images, dummy_labels)):\n",
        "    # Create directories for this fold\n",
        "    fold_train_img_path = f'/content/dataset/train_fold_{fold}/images/'\n",
        "    fold_train_lbl_path = f'/content/dataset/train_fold_{fold}/labels/'\n",
        "    fold_val_img_path = f'/content/dataset/val_fold_{fold}/images/'\n",
        "    fold_val_lbl_path = f'/content/dataset/val_fold_{fold}/labels/'\n",
        "\n",
        "    os.makedirs(fold_train_img_path, exist_ok=True)\n",
        "    os.makedirs(fold_train_lbl_path, exist_ok=True)\n",
        "    os.makedirs(fold_val_img_path, exist_ok=True)\n",
        "    os.makedirs(fold_val_lbl_path, exist_ok=True)\n",
        "\n",
        "    # Split data\n",
        "    train_img_files = [train_images[i] for i in train_index]\n",
        "    train_lbl_files = [train_labels[i] for i in train_index]\n",
        "    val_img_files = [train_images[i] for i in val_index]\n",
        "    val_lbl_files = [train_labels[i] for i in val_index]\n",
        "\n",
        "    # Copy files to respective directories\n",
        "    for img_file, lbl_file in zip(train_img_files, train_lbl_files):\n",
        "        shutil.copy(img_file, fold_train_img_path)\n",
        "        shutil.copy(lbl_file, fold_train_lbl_path)\n",
        "\n",
        "    for img_file, lbl_file in zip(val_img_files, val_lbl_files):\n",
        "        shutil.copy(img_file, fold_val_img_path)\n",
        "        shutil.copy(lbl_file, fold_val_lbl_path)\n",
        "\n",
        "    print(f'Fold {fold} created with {len(train_img_files)} training images and {len(val_img_files)} validation images.')\n",
        "\n"
      ],
      "metadata": {
        "colab": {
          "base_uri": "https://localhost:8080/"
        },
        "id": "6i1-7yHlX6ic",
        "outputId": "5cce62ba-3247-4d13-da4f-cf3d5db9e029"
      },
      "execution_count": null,
      "outputs": [
        {
          "output_type": "stream",
          "name": "stdout",
          "text": [
            "Fold 0 created with 3191 training images and 798 validation images.\n",
            "Fold 1 created with 3191 training images and 798 validation images.\n",
            "Fold 2 created with 3191 training images and 798 validation images.\n",
            "Fold 3 created with 3191 training images and 798 validation images.\n",
            "Fold 4 created with 3191 training images and 798 validation images.\n"
          ]
        }
      ]
    },
    {
      "cell_type": "code",
      "source": [
        "#check data\n",
        "for fold in range(5):\n",
        "    train_img_path = f'/content/dataset/train_fold_{fold}/images/'\n",
        "    val_img_path = f'/content/dataset/val_fold_{fold}/images/'\n",
        "\n",
        "    train_imgs = os.listdir(train_img_path)\n",
        "    val_imgs = os.listdir(val_img_path)\n",
        "\n",
        "    print(f'Fold {fold}:')\n",
        "    print(f' - Training images: {len(train_imgs)}')\n",
        "    print(f' - Validation images: {len(val_imgs)}\\n')\n"
      ],
      "metadata": {
        "colab": {
          "base_uri": "https://localhost:8080/"
        },
        "id": "lgc9yv33YArL",
        "outputId": "827ccfca-f07f-4dae-9c26-572830d16b3b"
      },
      "execution_count": null,
      "outputs": [
        {
          "output_type": "stream",
          "name": "stdout",
          "text": [
            "Fold 0:\n",
            " - Training images: 3191\n",
            " - Validation images: 798\n",
            "\n",
            "Fold 1:\n",
            " - Training images: 3191\n",
            " - Validation images: 798\n",
            "\n",
            "Fold 2:\n",
            " - Training images: 3191\n",
            " - Validation images: 798\n",
            "\n",
            "Fold 3:\n",
            " - Training images: 3191\n",
            " - Validation images: 798\n",
            "\n",
            "Fold 4:\n",
            " - Training images: 3191\n",
            " - Validation images: 798\n",
            "\n"
          ]
        }
      ]
    },
    {
      "cell_type": "code",
      "source": [
        "#copy new dataset\n",
        "!scp -r /content/dataset '/content/gdrive/My Drive/SCB-dataset 3: SCB-Dataset3: A Benchmark for Detecting Student Classroom Behavior' #your path"
      ],
      "metadata": {
        "id": "9MpmgN17YFH0"
      },
      "execution_count": null,
      "outputs": []
    }
  ]
}